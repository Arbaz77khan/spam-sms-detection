


import numpy as np 
import pandas as pd 





spam_df = pd.read_csv('spam.csv', encoding='latin-1')





spam_df


spam_df.shape


spam_df.sample(10)





# checking if last three columns contains any information or not
spam_df.info()


# As majority of data is missing in last three columns, we will drop these.
spam_df.drop(columns=['Unnamed: 2','Unnamed: 3', 'Unnamed: 4'], inplace=True)
spam_df.sample(5)





# Renaming the columns
spam_df.rename(columns= {'v1': 'target', 'v2' : 'text'}, inplace = True)
spam_df.sample()




































